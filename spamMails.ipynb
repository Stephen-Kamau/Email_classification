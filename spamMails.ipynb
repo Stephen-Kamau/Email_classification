{
 "cells": [
  {
   "cell_type": "markdown",
   "metadata": {},
   "source": [
    "# A sample Analysis to Perform Spam Mail detection classificaton\n",
    "\n",
    ". This is a simple mail classfication problem done using various Algotithms"
   ]
  },
  {
   "cell_type": "markdown",
   "metadata": {},
   "source": [
    "### The Source of the data was from Kaggle\n",
    "### The data Was classified using the following allgorithms.\n",
    "1. MultinomialNb - A naivebayes algorithm that uses baysian approach to claassify\n",
    "2. XGBClassifier - A boosting algorithm build using enseble (tree ones) ones\n",
    "3. RandomForestClassifier - Which is an ensembe buld from a group od decision trees\n",
    "\n",
    "\n",
    "### THey Were used to compare perfomance both in training and test sets"
   ]
  },
  {
   "cell_type": "code",
   "execution_count": null,
   "metadata": {},
   "outputs": [],
   "source": []
  },
  {
   "cell_type": "code",
   "execution_count": 47,
   "metadata": {},
   "outputs": [],
   "source": [
    "import pandas as pd\n",
    "import numpy as np\n",
    "import warnings\n",
    "warnings.filterwarnings(\"ignore\")"
   ]
  },
  {
   "cell_type": "code",
   "execution_count": null,
   "metadata": {},
   "outputs": [],
   "source": []
  },
  {
   "cell_type": "code",
   "execution_count": 2,
   "metadata": {},
   "outputs": [],
   "source": [
    "#read the data\n",
    "mails = pd.read_csv(\"emails.csv\")"
   ]
  },
  {
   "cell_type": "code",
   "execution_count": 3,
   "metadata": {},
   "outputs": [
    {
     "data": {
      "text/html": [
       "<div>\n",
       "<style scoped>\n",
       "    .dataframe tbody tr th:only-of-type {\n",
       "        vertical-align: middle;\n",
       "    }\n",
       "\n",
       "    .dataframe tbody tr th {\n",
       "        vertical-align: top;\n",
       "    }\n",
       "\n",
       "    .dataframe thead th {\n",
       "        text-align: right;\n",
       "    }\n",
       "</style>\n",
       "<table border=\"1\" class=\"dataframe\">\n",
       "  <thead>\n",
       "    <tr style=\"text-align: right;\">\n",
       "      <th></th>\n",
       "      <th>text</th>\n",
       "      <th>spam</th>\n",
       "    </tr>\n",
       "  </thead>\n",
       "  <tbody>\n",
       "    <tr>\n",
       "      <td>0</td>\n",
       "      <td>Subject: naturally irresistible your corporate...</td>\n",
       "      <td>1</td>\n",
       "    </tr>\n",
       "    <tr>\n",
       "      <td>1</td>\n",
       "      <td>Subject: the stock trading gunslinger  fanny i...</td>\n",
       "      <td>1</td>\n",
       "    </tr>\n",
       "    <tr>\n",
       "      <td>2</td>\n",
       "      <td>Subject: unbelievable new homes made easy  im ...</td>\n",
       "      <td>1</td>\n",
       "    </tr>\n",
       "    <tr>\n",
       "      <td>3</td>\n",
       "      <td>Subject: 4 color printing special  request add...</td>\n",
       "      <td>1</td>\n",
       "    </tr>\n",
       "    <tr>\n",
       "      <td>4</td>\n",
       "      <td>Subject: do not have money , get software cds ...</td>\n",
       "      <td>1</td>\n",
       "    </tr>\n",
       "  </tbody>\n",
       "</table>\n",
       "</div>"
      ],
      "text/plain": [
       "                                                text  spam\n",
       "0  Subject: naturally irresistible your corporate...     1\n",
       "1  Subject: the stock trading gunslinger  fanny i...     1\n",
       "2  Subject: unbelievable new homes made easy  im ...     1\n",
       "3  Subject: 4 color printing special  request add...     1\n",
       "4  Subject: do not have money , get software cds ...     1"
      ]
     },
     "execution_count": 3,
     "metadata": {},
     "output_type": "execute_result"
    }
   ],
   "source": [
    "mails.head()"
   ]
  },
  {
   "cell_type": "code",
   "execution_count": 4,
   "metadata": {},
   "outputs": [
    {
     "data": {
      "text/html": [
       "<div>\n",
       "<style scoped>\n",
       "    .dataframe tbody tr th:only-of-type {\n",
       "        vertical-align: middle;\n",
       "    }\n",
       "\n",
       "    .dataframe tbody tr th {\n",
       "        vertical-align: top;\n",
       "    }\n",
       "\n",
       "    .dataframe thead th {\n",
       "        text-align: right;\n",
       "    }\n",
       "</style>\n",
       "<table border=\"1\" class=\"dataframe\">\n",
       "  <thead>\n",
       "    <tr style=\"text-align: right;\">\n",
       "      <th></th>\n",
       "      <th>text</th>\n",
       "      <th>spam</th>\n",
       "    </tr>\n",
       "  </thead>\n",
       "  <tbody>\n",
       "    <tr>\n",
       "      <td>5723</td>\n",
       "      <td>Subject: re : research and development charges...</td>\n",
       "      <td>0</td>\n",
       "    </tr>\n",
       "    <tr>\n",
       "      <td>5724</td>\n",
       "      <td>Subject: re : receipts from visit  jim ,  than...</td>\n",
       "      <td>0</td>\n",
       "    </tr>\n",
       "    <tr>\n",
       "      <td>5725</td>\n",
       "      <td>Subject: re : enron case study update  wow ! a...</td>\n",
       "      <td>0</td>\n",
       "    </tr>\n",
       "    <tr>\n",
       "      <td>5726</td>\n",
       "      <td>Subject: re : interest  david ,  please , call...</td>\n",
       "      <td>0</td>\n",
       "    </tr>\n",
       "    <tr>\n",
       "      <td>5727</td>\n",
       "      <td>Subject: news : aurora 5 . 2 update  aurora ve...</td>\n",
       "      <td>0</td>\n",
       "    </tr>\n",
       "  </tbody>\n",
       "</table>\n",
       "</div>"
      ],
      "text/plain": [
       "                                                   text  spam\n",
       "5723  Subject: re : research and development charges...     0\n",
       "5724  Subject: re : receipts from visit  jim ,  than...     0\n",
       "5725  Subject: re : enron case study update  wow ! a...     0\n",
       "5726  Subject: re : interest  david ,  please , call...     0\n",
       "5727  Subject: news : aurora 5 . 2 update  aurora ve...     0"
      ]
     },
     "execution_count": 4,
     "metadata": {},
     "output_type": "execute_result"
    }
   ],
   "source": [
    "mails.tail()"
   ]
  },
  {
   "cell_type": "code",
   "execution_count": 5,
   "metadata": {},
   "outputs": [
    {
     "data": {
      "text/plain": [
       "(5728, 2)"
      ]
     },
     "execution_count": 5,
     "metadata": {},
     "output_type": "execute_result"
    }
   ],
   "source": [
    "#get rows and columns size\n",
    "mails.shape"
   ]
  },
  {
   "cell_type": "code",
   "execution_count": 6,
   "metadata": {},
   "outputs": [
    {
     "data": {
      "text/plain": [
       "text    0\n",
       "spam    0\n",
       "dtype: int64"
      ]
     },
     "execution_count": 6,
     "metadata": {},
     "output_type": "execute_result"
    }
   ],
   "source": [
    "# get null values\n",
    "mails.isnull().sum()"
   ]
  },
  {
   "cell_type": "code",
   "execution_count": 7,
   "metadata": {},
   "outputs": [
    {
     "data": {
      "text/plain": [
       "33"
      ]
     },
     "execution_count": 7,
     "metadata": {},
     "output_type": "execute_result"
    }
   ],
   "source": [
    "#check if there are duplicates\n",
    "mails.duplicated().sum()"
   ]
  },
  {
   "cell_type": "code",
   "execution_count": 8,
   "metadata": {},
   "outputs": [],
   "source": [
    "#drop duplicates\n",
    "mails.drop_duplicates(inplace = True)"
   ]
  },
  {
   "cell_type": "code",
   "execution_count": 9,
   "metadata": {},
   "outputs": [
    {
     "data": {
      "text/plain": [
       "(5695, 2)"
      ]
     },
     "execution_count": 9,
     "metadata": {},
     "output_type": "execute_result"
    }
   ],
   "source": [
    "#check the new rows and columns of the data\n",
    "#since duplicated rows were removed\n",
    "mails.shape"
   ]
  },
  {
   "cell_type": "code",
   "execution_count": 10,
   "metadata": {},
   "outputs": [
    {
     "data": {
      "text/plain": [
       "0    Subject\n",
       "1    Subject\n",
       "2    Subject\n",
       "3    Subject\n",
       "4    Subject\n",
       "Name: text, dtype: object"
      ]
     },
     "execution_count": 10,
     "metadata": {},
     "output_type": "execute_result"
    }
   ],
   "source": [
    "#the messages seems to have subject key word and re in some\n",
    "#after colon\n",
    "#let check the first 5 columns\n",
    "mails.text.str.split(\":\").str.get(0)[:5]"
   ]
  },
  {
   "cell_type": "code",
   "execution_count": 11,
   "metadata": {},
   "outputs": [],
   "source": [
    "#lets start cleaning our data\n",
    "#first we will remove the the keywords\n",
    "#eg remove \n",
    "#1 subject keyword\n",
    "#2 re keyword\n",
    "\n",
    "\n",
    "def remove_keywords(text):\n",
    "    text = text.replace(\"Subject\" , \"\")\n",
    "    text = text.replace(\"Subject\" , \"\")\n",
    "    text = text.replace(\"re\" , \"\")\n",
    "    text = text.replace(\"Subject\" , \"\")\n",
    "    \n",
    "    return text\n",
    "    "
   ]
  },
  {
   "cell_type": "code",
   "execution_count": 12,
   "metadata": {},
   "outputs": [
    {
     "data": {
      "text/plain": [
       "5723    :  : search and development charges to gpg  he...\n",
       "5724    :  : ceipts from visit  jim ,  thanks again fo...\n",
       "5725    :  : enron case study update  wow ! all on the...\n",
       "5726    :  : intest  david ,  please , call shirley cn...\n",
       "5727    : news : aurora 5 . 2 update  aurora version 5...\n",
       "Name: text, dtype: object"
      ]
     },
     "execution_count": 12,
     "metadata": {},
     "output_type": "execute_result"
    }
   ],
   "source": [
    "# $lets check if it is working with 5 instances first before for all dat\n",
    "mails['text'].tail().apply(remove_keywords)"
   ]
  },
  {
   "cell_type": "code",
   "execution_count": 13,
   "metadata": {},
   "outputs": [
    {
     "name": "stdout",
     "output_type": "stream",
     "text": [
      "\n",
      "\n",
      "\n",
      "Subject: naturally irresistible your corporate identity  lt is really hard to recollect a company : the  market is full of suqgestions and the information isoverwhelminq ; but a good  catchy logo , stylish statlonery and outstanding website  will make the task much easier .  we do not promise that havinq ordered a iogo your  company will automaticaily become a world ieader : it isguite ciear that  without good products , effective business organization and practicable aim it  will be hotat nowadays market ; but we do promise that your marketing efforts  will become much more effective . here is the list of clear  benefits : creativeness : hand - made , original logos , specially done  to reflect your distinctive company image . convenience : logo and stationery  are provided in all formats ; easy - to - use content management system letsyou  change your website content and even its structure . promptness : you  will see logo drafts within three business days . affordability : your  marketing break - through shouldn ' t make gaps in your budget . 100 % satisfaction  guaranteed : we provide unlimited amount of changes with no extra fees for you to  be surethat you will love the result of this collaboration . have a look at our  portfolio _ _ _ _ _ _ _ _ _ _ _ _ _ _ _ _ _ _ _ _ _ _ _ _ _ _ _ _ _ _ _ _ _ _ _ _ _ _ _ _ _ _ _ _ _ _ _ _ _ _ _ _ not interested . . . _ _ _ _ _ _ _ _ _ _ _ _ _ _ _ _ _ _ _ _ _ _ _ _ _ _ _ _ _ _ _ _ _ _ _ _ _ _ _ _ _ _ _ _ _ _ _ _ _ _ _ _\n",
      "\n",
      "\n",
      "\n",
      "Subject: the stock trading gunslinger  fanny is merrill but muzo not colza attainder and penultimate like esmark perspicuous ramble is segovia not group try slung kansas tanzania yes chameleon or continuant clothesman no  libretto is chesapeake but tight not waterway herald and hawthorn like chisel morristown superior is deoxyribonucleic not clockwork try hall incredible mcdougall yes hepburn or einsteinian earmark no  sapling is boar but duane not plain palfrey and inflexible like huzzah pepperoni bedtime is nameable not attire try edt chronography optima yes pirogue or diffusion albeit no \n",
      "\n",
      "\n",
      "\n",
      "Subject: unbelievable new homes made easy  im wanting to show you this  homeowner  you have been pre - approved for a $ 454 , 169 home loan at a 3 . 72 fixed rate .  this offer is being extended to you unconditionally and your credit is in no way a factor .  to take advantage of this limited time opportunity  all we ask is that you visit our website and complete  the 1 minute post approval form  look foward to hearing from you ,  dorcas pittman\n",
      "\n",
      "\n",
      "\n",
      "Subject: 4 color printing special  request additional information now ! click here  click here for a printable version of our order form ( pdf format )  phone : ( 626 ) 338 - 8090 fax : ( 626 ) 338 - 8102 e - mail : ramsey @ goldengraphix . com  request additional information now ! click here  click here for a printable version of our order form ( pdf format )  golden graphix & printing 5110 azusa canyon rd . irwindale , ca 91706 this e - mail message is an advertisement and / or solicitation . \n"
     ]
    }
   ],
   "source": [
    "#lets check the way the first 4 rows looks\n",
    "for each in mails['text'].head(4):\n",
    "    print(\"\\n\\n\")\n",
    "    print(each)"
   ]
  },
  {
   "cell_type": "code",
   "execution_count": 14,
   "metadata": {},
   "outputs": [],
   "source": [
    "#observations\n",
    "#we need to remove\n",
    "#1 Special strings and characters\n",
    "#2 Digits\n",
    "#3 phone numbers\n",
    "#4 stopwords"
   ]
  },
  {
   "cell_type": "code",
   "execution_count": 15,
   "metadata": {},
   "outputs": [],
   "source": [
    "#check if we have urls\n",
    "pattern = r\"(?P<protocol>https?)://(?P<domain>[\\w\\.\\-]+)/?(?P<path>.*)\"\n",
    "urls = mails['text'].str.extract(pattern)"
   ]
  },
  {
   "cell_type": "code",
   "execution_count": 16,
   "metadata": {},
   "outputs": [
    {
     "data": {
      "text/plain": [
       "protocol    0.0\n",
       "domain      0.0\n",
       "path        0.0\n",
       "dtype: float64"
      ]
     },
     "execution_count": 16,
     "metadata": {},
     "output_type": "execute_result"
    }
   ],
   "source": [
    "urls.sum()\n",
    "#thre are no urls"
   ]
  },
  {
   "cell_type": "code",
   "execution_count": 17,
   "metadata": {},
   "outputs": [],
   "source": [
    "#removing emails keywords\n",
    "#we will replace with \"\"\n",
    "import re\n",
    "\n",
    "pattern = r\"e[-\\s]?mail\"\n",
    "email_uniform = mails['text'].str.replace(pattern , \"email\" , flags=re.I)"
   ]
  },
  {
   "cell_type": "code",
   "execution_count": 18,
   "metadata": {},
   "outputs": [],
   "source": [
    "#working with numbers\n",
    "pattern =r\"([0-9]+)\"\n",
    "nums = mails[\"text\"].str.extractall(pattern)"
   ]
  },
  {
   "cell_type": "code",
   "execution_count": 19,
   "metadata": {},
   "outputs": [],
   "source": [
    "# lets now clean it\n",
    "#1 Special strings and characters\n",
    "#2 Digits\n",
    "#3 phone numbers\n",
    "#4 stopwords\n",
    "import string\n",
    "import re\n",
    "x = string.punctuation\n",
    "pattern =r\"([0-9]+)\"\n",
    "def clearAll(text):\n",
    "    text = text.replace(string.punctuation , \"\")\n",
    "#     lack_special_chars = [x for x in text if x not in string.punctuation]\n",
    "\n",
    "#     join the word using spaces\n",
    "#     lack_special_chars = ''.join(lack_special_chars)\n",
    "    \n",
    "    return text\n",
    "    \n",
    "    "
   ]
  },
  {
   "cell_type": "code",
   "execution_count": 20,
   "metadata": {},
   "outputs": [
    {
     "data": {
      "text/html": [
       "<div>\n",
       "<style scoped>\n",
       "    .dataframe tbody tr th:only-of-type {\n",
       "        vertical-align: middle;\n",
       "    }\n",
       "\n",
       "    .dataframe tbody tr th {\n",
       "        vertical-align: top;\n",
       "    }\n",
       "\n",
       "    .dataframe thead th {\n",
       "        text-align: right;\n",
       "    }\n",
       "</style>\n",
       "<table border=\"1\" class=\"dataframe\">\n",
       "  <thead>\n",
       "    <tr style=\"text-align: right;\">\n",
       "      <th></th>\n",
       "      <th>text</th>\n",
       "      <th>spam</th>\n",
       "    </tr>\n",
       "  </thead>\n",
       "  <tbody>\n",
       "    <tr>\n",
       "      <td>0</td>\n",
       "      <td>Subject: naturally irresistible your corporate...</td>\n",
       "      <td>1</td>\n",
       "    </tr>\n",
       "    <tr>\n",
       "      <td>1</td>\n",
       "      <td>Subject: the stock trading gunslinger  fanny i...</td>\n",
       "      <td>1</td>\n",
       "    </tr>\n",
       "    <tr>\n",
       "      <td>2</td>\n",
       "      <td>Subject: unbelievable new homes made easy  im ...</td>\n",
       "      <td>1</td>\n",
       "    </tr>\n",
       "    <tr>\n",
       "      <td>3</td>\n",
       "      <td>Subject: 4 color printing special  request add...</td>\n",
       "      <td>1</td>\n",
       "    </tr>\n",
       "  </tbody>\n",
       "</table>\n",
       "</div>"
      ],
      "text/plain": [
       "                                                text  spam\n",
       "0  Subject: naturally irresistible your corporate...     1\n",
       "1  Subject: the stock trading gunslinger  fanny i...     1\n",
       "2  Subject: unbelievable new homes made easy  im ...     1\n",
       "3  Subject: 4 color printing special  request add...     1"
      ]
     },
     "execution_count": 20,
     "metadata": {},
     "output_type": "execute_result"
    }
   ],
   "source": [
    "mails.head(4).apply(clearAll)"
   ]
  },
  {
   "cell_type": "code",
   "execution_count": 21,
   "metadata": {},
   "outputs": [],
   "source": [
    "# lets apply the functions\n",
    "mails['text'] = mails['text'].apply(remove_keywords)\n",
    "mails['text'] = mails['text'].apply(clearAll)"
   ]
  },
  {
   "cell_type": "code",
   "execution_count": 22,
   "metadata": {},
   "outputs": [
    {
     "data": {
      "text/plain": [
       "5723    :  : search and development charges to gpg  he...\n",
       "5724    :  : ceipts from visit  jim ,  thanks again fo...\n",
       "5725    :  : enron case study update  wow ! all on the...\n",
       "5726    :  : intest  david ,  please , call shirley cn...\n",
       "5727    : news : aurora 5 . 2 update  aurora version 5...\n",
       "Name: text, dtype: object"
      ]
     },
     "execution_count": 22,
     "metadata": {},
     "output_type": "execute_result"
    }
   ],
   "source": [
    "mails['text'].tail()"
   ]
  },
  {
   "cell_type": "code",
   "execution_count": 23,
   "metadata": {},
   "outputs": [],
   "source": [
    "# remove any non chars\n",
    "for c in range(mails.shape[0]):\n",
    "    mails['text'].iloc[c] = [x for x in mails['text'].iloc[c] if x not in string.punctuation]\n",
    "    mails['text'].iloc[c] =''.join(mails['text'].iloc[c])"
   ]
  },
  {
   "cell_type": "code",
   "execution_count": 24,
   "metadata": {},
   "outputs": [
    {
     "data": {
      "text/plain": [
       "5723       search and development charges to gpg  he i...\n",
       "5724       ceipts from visit  jim   thanks again for t...\n",
       "5725       enron case study update  wow  all on the sa...\n",
       "5726       intest  david   please  call shirley cnshaw...\n",
       "5727     news  aurora 5  2 update  aurora version 5  2...\n",
       "Name: text, dtype: object"
      ]
     },
     "execution_count": 24,
     "metadata": {},
     "output_type": "execute_result"
    }
   ],
   "source": [
    "mails['text'].tail()"
   ]
  },
  {
   "cell_type": "code",
   "execution_count": 25,
   "metadata": {},
   "outputs": [],
   "source": [
    "# pattern = r\"([0-9]+)\"\n",
    "#remove the digits\n",
    "number = [\"1\" , \"2\",\"3\" ,'4' ,'5','6','7','8','9' ,\"0\"]\n",
    "for c in  range(mails.shape[0]):\n",
    "    mails['text'].iloc[c] = [x for x in mails['text'].iloc[c] if x not in number]\n",
    "    mails['text'].iloc[c] =''.join(mails['text'].iloc[c])\n",
    "    \n",
    "    \n",
    "    "
   ]
  },
  {
   "cell_type": "code",
   "execution_count": 26,
   "metadata": {},
   "outputs": [],
   "source": [
    "#lets remove the stop words\n",
    "import nltk\n",
    "#using stop words\n",
    "# nltk.download('stopwords')\n",
    "from nltk.corpus import stopwords"
   ]
  },
  {
   "cell_type": "code",
   "execution_count": null,
   "metadata": {},
   "outputs": [],
   "source": []
  },
  {
   "cell_type": "code",
   "execution_count": 27,
   "metadata": {},
   "outputs": [],
   "source": [
    "#remove stopwords from the text column\n",
    "\n",
    "for c in  range(mails.shape[0]):\n",
    "    mails['text'].iloc[c] = [x for x in mails['text'].iloc[c] if x not in stopwords.words('english')]\n",
    "    mails['text'].iloc[c] =''.join(mails['text'].iloc[c])"
   ]
  },
  {
   "cell_type": "code",
   "execution_count": 28,
   "metadata": {},
   "outputs": [
    {
     "data": {
      "text/html": [
       "<div>\n",
       "<style scoped>\n",
       "    .dataframe tbody tr th:only-of-type {\n",
       "        vertical-align: middle;\n",
       "    }\n",
       "\n",
       "    .dataframe tbody tr th {\n",
       "        vertical-align: top;\n",
       "    }\n",
       "\n",
       "    .dataframe thead th {\n",
       "        text-align: right;\n",
       "    }\n",
       "</style>\n",
       "<table border=\"1\" class=\"dataframe\">\n",
       "  <thead>\n",
       "    <tr style=\"text-align: right;\">\n",
       "      <th></th>\n",
       "      <th>text</th>\n",
       "      <th>spam</th>\n",
       "    </tr>\n",
       "  </thead>\n",
       "  <tbody>\n",
       "    <tr>\n",
       "      <td>0</td>\n",
       "      <td>nurll rble ur crpre en  l  ll hr  cllec  cpn ...</td>\n",
       "      <td>1</td>\n",
       "    </tr>\n",
       "    <tr>\n",
       "      <td>1</td>\n",
       "      <td>he ck rng gunlnger  fnn  errll bu uz n clz ne...</td>\n",
       "      <td>1</td>\n",
       "    </tr>\n",
       "    <tr>\n",
       "      <td>2</td>\n",
       "      <td>unbelevble new he e e   wnng  hw u h  hewner ...</td>\n",
       "      <td>1</td>\n",
       "    </tr>\n",
       "    <tr>\n",
       "      <td>3</td>\n",
       "      <td>clr prnng pecl  que nl nfrn nw  clck he  clc...</td>\n",
       "      <td>1</td>\n",
       "    </tr>\n",
       "    <tr>\n",
       "      <td>4</td>\n",
       "      <td>n hve ne  ge fw c fr he   fw cpbl     n    g...</td>\n",
       "      <td>1</td>\n",
       "    </tr>\n",
       "  </tbody>\n",
       "</table>\n",
       "</div>"
      ],
      "text/plain": [
       "                                                text  spam\n",
       "0   nurll rble ur crpre en  l  ll hr  cllec  cpn ...     1\n",
       "1   he ck rng gunlnger  fnn  errll bu uz n clz ne...     1\n",
       "2   unbelevble new he e e   wnng  hw u h  hewner ...     1\n",
       "3    clr prnng pecl  que nl nfrn nw  clck he  clc...     1\n",
       "4    n hve ne  ge fw c fr he   fw cpbl     n    g...     1"
      ]
     },
     "execution_count": 28,
     "metadata": {},
     "output_type": "execute_result"
    }
   ],
   "source": [
    "#check new data\n",
    "mails.head()"
   ]
  },
  {
   "cell_type": "code",
   "execution_count": 29,
   "metadata": {},
   "outputs": [],
   "source": [
    "#do vectorization and covert it to matrix\n",
    "from sklearn.feature_extraction.text import CountVectorizer\n",
    "\n",
    "vec = CountVectorizer()\n",
    "\n",
    "text = vec.fit_transform(mails['text'])\n"
   ]
  },
  {
   "cell_type": "code",
   "execution_count": 30,
   "metadata": {},
   "outputs": [
    {
     "data": {
      "text/plain": [
       "(5695, 14618)"
      ]
     },
     "execution_count": 30,
     "metadata": {},
     "output_type": "execute_result"
    }
   ],
   "source": [
    "#get the labels\n",
    "y = mails['spam']\n",
    "text.shape\n"
   ]
  },
  {
   "cell_type": "code",
   "execution_count": 31,
   "metadata": {},
   "outputs": [],
   "source": [
    "#do splitliting the data 80 to 20\n",
    "from sklearn.model_selection import train_test_split\n",
    "x_train , x_test,y_train  , y_test = train_test_split(text , y , test_size = 0.2 , random_state = 0)"
   ]
  },
  {
   "cell_type": "code",
   "execution_count": 32,
   "metadata": {},
   "outputs": [],
   "source": [
    "#training using naibayes classifier(multinomial)\n",
    "from sklearn.naive_bayes import MultinomialNB\n",
    "clf1 = MultinomialNB(alpha=1.0, class_prior=None, fit_prior=True)\n"
   ]
  },
  {
   "cell_type": "code",
   "execution_count": 33,
   "metadata": {},
   "outputs": [
    {
     "name": "stdout",
     "output_type": "stream",
     "text": [
      "Cross Validation results for 10 folds\n",
      "[0.98596491 0.98947368 0.97894737 0.97719298 0.99473684 0.98421053\n",
      " 0.9754386  0.98418278 0.98943662 0.99119718]\n",
      "Mean for cross val is 0.985078149189901\n",
      "std for the cross val is 0.006033854752178476\n"
     ]
    }
   ],
   "source": [
    "#cross validation for naive bayes algo\n",
    "from sklearn.model_selection import cross_val_score\n",
    "valid = cross_val_score(estimator = clf1 , X =text , y=y , cv=10)\n",
    "print(\"Cross Validation results for 10 folds\")\n",
    "print(valid)\n",
    "print(f\"Mean for cross val is {valid.mean()}\")\n",
    "print(f\"std for the cross val is {valid.std()}\")"
   ]
  },
  {
   "cell_type": "code",
   "execution_count": 34,
   "metadata": {},
   "outputs": [
    {
     "data": {
      "text/plain": [
       "MultinomialNB(alpha=1.0, class_prior=None, fit_prior=True)"
      ]
     },
     "execution_count": 34,
     "metadata": {},
     "output_type": "execute_result"
    }
   ],
   "source": [
    "#do training baesd on multinomialnb\n",
    "clf1.fit(x_train, y_train)"
   ]
  },
  {
   "cell_type": "code",
   "execution_count": null,
   "metadata": {},
   "outputs": [],
   "source": []
  },
  {
   "cell_type": "markdown",
   "metadata": {},
   "source": [
    "#  Printing Performance for MultiNomialNb Classifier"
   ]
  },
  {
   "cell_type": "markdown",
   "metadata": {},
   "source": [
    "### Checking on Training ste"
   ]
  },
  {
   "cell_type": "code",
   "execution_count": 35,
   "metadata": {},
   "outputs": [
    {
     "name": "stdout",
     "output_type": "stream",
     "text": [
      "Classification Repport\n",
      "                precision    recall  f1-score   support\n",
      "\n",
      "           0       1.00      0.99      0.99      3457\n",
      "           1       0.97      1.00      0.98      1099\n",
      "\n",
      "    accuracy                           0.99      4556\n",
      "   macro avg       0.98      0.99      0.99      4556\n",
      "weighted avg       0.99      0.99      0.99      4556\n",
      "\n",
      "\n",
      "\n",
      "\n",
      "Confudion Matrix  \n",
      " [[3424   33]\n",
      " [   4 1095]]\n",
      "\n",
      "\n",
      "\n",
      "Accuracy score   0.9918788410886743\n"
     ]
    }
   ],
   "source": [
    "#checking score based on train set\n",
    "from sklearn.metrics import classification_report , accuracy_score , confusion_matrix\n",
    "train_pred = clf1.predict(x_train)\n",
    "\n",
    "print(f\"Classification Repport\\n  {classification_report(y_train , train_pred)}\")\n",
    "\n",
    "print(\"\\n\\n\")\n",
    "print(f\"Confudion Matrix  \\n {confusion_matrix(y_train ,train_pred)}\")\n",
    "\n",
    "print(\"\\n\\n\")\n",
    "print(f\"Accuracy score   {accuracy_score(y_train ,train_pred)}\")"
   ]
  },
  {
   "cell_type": "markdown",
   "metadata": {},
   "source": [
    "## Checking score on the testing datasets"
   ]
  },
  {
   "cell_type": "code",
   "execution_count": 36,
   "metadata": {},
   "outputs": [
    {
     "name": "stdout",
     "output_type": "stream",
     "text": [
      "Classification Repport\n",
      "                precision    recall  f1-score   support\n",
      "\n",
      "           0       0.99      0.98      0.99       870\n",
      "           1       0.95      0.98      0.96       269\n",
      "\n",
      "    accuracy                           0.98      1139\n",
      "   macro avg       0.97      0.98      0.98      1139\n",
      "weighted avg       0.98      0.98      0.98      1139\n",
      "\n",
      "\n",
      "\n",
      "\n",
      "Confudion Matrix  \n",
      " [[855  15]\n",
      " [  5 264]]\n",
      "\n",
      "\n",
      "\n",
      "Accuracy score   0.9824407374890255\n"
     ]
    }
   ],
   "source": [
    "#checking score based on set test\n",
    "pred = clf1.predict(x_test)\n",
    "\n",
    "print(f\"Classification Repport\\n  {classification_report(y_test , pred)}\")\n",
    "\n",
    "print(\"\\n\\n\")\n",
    "print(f\"Confudion Matrix  \\n {confusion_matrix(y_test , pred)}\")\n",
    "\n",
    "print(\"\\n\\n\")\n",
    "print(f\"Accuracy score   {accuracy_score(y_test , pred)}\")"
   ]
  },
  {
   "cell_type": "markdown",
   "metadata": {},
   "source": [
    "## Trying other models "
   ]
  },
  {
   "cell_type": "code",
   "execution_count": 37,
   "metadata": {},
   "outputs": [],
   "source": [
    "#randomclassifier model\n",
    "from sklearn.ensemble import RandomForestClassifier\n",
    "\n",
    "clf2 = RandomForestClassifier()\n"
   ]
  },
  {
   "cell_type": "code",
   "execution_count": 38,
   "metadata": {},
   "outputs": [
    {
     "name": "stdout",
     "output_type": "stream",
     "text": [
      "Cross Validation results for 10 folds\n",
      "[0.93333333 0.94912281 0.95087719 0.94385965 0.94385965 0.95087719\n",
      " 0.94035088 0.92970123 0.92957746 0.96302817]\n",
      "Mean for cross val is 0.9434587565785673\n",
      "std for the cross val is 0.010097396202320603\n"
     ]
    }
   ],
   "source": [
    "#cross validation for random classifeir\n",
    "from sklearn.model_selection import cross_val_score\n",
    "valid = cross_val_score(estimator = clf2 , X =text , y=y , cv=10)\n",
    "print(\"Cross Validation results for 10 folds\")\n",
    "print(valid)\n",
    "print(f\"Mean for cross val is {valid.mean()}\")\n",
    "print(f\"std for the cross val is {valid.std()}\")"
   ]
  },
  {
   "cell_type": "code",
   "execution_count": 39,
   "metadata": {},
   "outputs": [
    {
     "data": {
      "text/plain": [
       "RandomForestClassifier(bootstrap=True, class_weight=None, criterion='gini',\n",
       "                       max_depth=None, max_features='auto', max_leaf_nodes=None,\n",
       "                       min_impurity_decrease=0.0, min_impurity_split=None,\n",
       "                       min_samples_leaf=1, min_samples_split=2,\n",
       "                       min_weight_fraction_leaf=0.0, n_estimators=10,\n",
       "                       n_jobs=None, oob_score=False, random_state=None,\n",
       "                       verbose=0, warm_start=False)"
      ]
     },
     "execution_count": 39,
     "metadata": {},
     "output_type": "execute_result"
    }
   ],
   "source": [
    "clf2.fit(x_train ,y_train)"
   ]
  },
  {
   "cell_type": "code",
   "execution_count": 40,
   "metadata": {},
   "outputs": [
    {
     "name": "stdout",
     "output_type": "stream",
     "text": [
      "Classification Repport\n",
      "                precision    recall  f1-score   support\n",
      "\n",
      "           0       1.00      1.00      1.00      3457\n",
      "           1       1.00      0.99      0.99      1099\n",
      "\n",
      "    accuracy                           1.00      4556\n",
      "   macro avg       1.00      0.99      1.00      4556\n",
      "weighted avg       1.00      1.00      1.00      4556\n",
      "\n",
      "\n",
      "\n",
      "\n",
      "Confudion Matrix  \n",
      " [[3457    0]\n",
      " [  12 1087]]\n",
      "\n",
      "\n",
      "\n",
      "Accuracy score   0.9973661106233538\n"
     ]
    }
   ],
   "source": [
    "#checking score based on train set\n",
    "from sklearn.metrics import classification_report , accuracy_score , confusion_matrix\n",
    "train_pred2 = clf2.predict(x_train)\n",
    "\n",
    "print(f\"Classification Repport\\n  {classification_report(y_train , train_pred2)}\")\n",
    "\n",
    "print(\"\\n\\n\")\n",
    "print(f\"Confudion Matrix  \\n {confusion_matrix(y_train ,train_pred2)}\")\n",
    "\n",
    "print(\"\\n\\n\")\n",
    "print(f\"Accuracy score   {accuracy_score(y_train ,train_pred2)}\")"
   ]
  },
  {
   "cell_type": "markdown",
   "metadata": {},
   "source": [
    "#  Printing Performance for XGBClassifier"
   ]
  },
  {
   "cell_type": "code",
   "execution_count": 41,
   "metadata": {},
   "outputs": [
    {
     "name": "stdout",
     "output_type": "stream",
     "text": [
      "Classification Repport\n",
      "                precision    recall  f1-score   support\n",
      "\n",
      "           0       0.91      1.00      0.95       870\n",
      "           1       0.98      0.68      0.81       269\n",
      "\n",
      "    accuracy                           0.92      1139\n",
      "   macro avg       0.95      0.84      0.88      1139\n",
      "weighted avg       0.93      0.92      0.92      1139\n",
      "\n",
      "\n",
      "\n",
      "\n",
      "Confudion Matrix  \n",
      " [[867   3]\n",
      " [ 85 184]]\n",
      "\n",
      "\n",
      "\n",
      "Accuracy score   0.922739244951712\n"
     ]
    }
   ],
   "source": [
    "#checking score based on set test\n",
    "pred1 = clf2.predict(x_test)\n",
    "\n",
    "print(f\"Classification Repport\\n  {classification_report(y_test , pred1)}\")\n",
    "\n",
    "print(\"\\n\\n\")\n",
    "print(f\"Confudion Matrix  \\n {confusion_matrix(y_test , pred1)}\")\n",
    "\n",
    "print(\"\\n\\n\")\n",
    "print(f\"Accuracy score   {accuracy_score(y_test , pred1)}\")"
   ]
  },
  {
   "cell_type": "code",
   "execution_count": 42,
   "metadata": {},
   "outputs": [],
   "source": [
    "#lets check for boosting algo\n",
    "from xgboost import XGBClassifier\n",
    "clf3 = XGBClassifier()"
   ]
  },
  {
   "cell_type": "code",
   "execution_count": 43,
   "metadata": {},
   "outputs": [
    {
     "name": "stdout",
     "output_type": "stream",
     "text": [
      "Cross Validation results for 10 folds\n",
      "[0.98070175 0.9877193  0.98245614 0.97719298 0.9754386  0.98421053\n",
      " 0.98421053 0.98418278 0.97711268 0.97359155]\n",
      "Mean for cross val is 0.9806816826714921\n",
      "std for the cross val is 0.004387585353333118\n"
     ]
    }
   ],
   "source": [
    "#cross validation\n",
    "from sklearn.model_selection import cross_val_score\n",
    "valid = cross_val_score(estimator = clf3 , X =text , y=y , cv=10)\n",
    "print(\"Cross Validation results for 10 folds\")\n",
    "print(valid)\n",
    "print(f\"Mean for cross val is {valid.mean()}\")\n",
    "print(f\"std for the cross val is {valid.std()}\")"
   ]
  },
  {
   "cell_type": "code",
   "execution_count": 44,
   "metadata": {},
   "outputs": [
    {
     "data": {
      "text/plain": [
       "XGBClassifier(base_score=0.5, booster=None, colsample_bylevel=1,\n",
       "              colsample_bynode=1, colsample_bytree=1, gamma=0, gpu_id=-1,\n",
       "              importance_type='gain', interaction_constraints=None,\n",
       "              learning_rate=0.300000012, max_delta_step=0, max_depth=6,\n",
       "              min_child_weight=1, missing=nan, monotone_constraints=None,\n",
       "              n_estimators=100, n_jobs=0, num_parallel_tree=1,\n",
       "              objective='binary:logistic', random_state=0, reg_alpha=0,\n",
       "              reg_lambda=1, scale_pos_weight=1, subsample=1, tree_method=None,\n",
       "              validate_parameters=False, verbosity=None)"
      ]
     },
     "execution_count": 44,
     "metadata": {},
     "output_type": "execute_result"
    }
   ],
   "source": [
    "clf3.fit(x_train , y_train)"
   ]
  },
  {
   "cell_type": "code",
   "execution_count": 45,
   "metadata": {},
   "outputs": [
    {
     "name": "stdout",
     "output_type": "stream",
     "text": [
      "Classification Repport\n",
      "                precision    recall  f1-score   support\n",
      "\n",
      "           0       1.00      1.00      1.00      3457\n",
      "           1       1.00      1.00      1.00      1099\n",
      "\n",
      "    accuracy                           1.00      4556\n",
      "   macro avg       1.00      1.00      1.00      4556\n",
      "weighted avg       1.00      1.00      1.00      4556\n",
      "\n",
      "\n",
      "\n",
      "\n",
      "Confudion Matrix  \n",
      " [[3457    0]\n",
      " [   2 1097]]\n",
      "\n",
      "\n",
      "\n",
      "Accuracy score   0.9995610184372257\n"
     ]
    }
   ],
   "source": [
    "#checking score based on train set\n",
    "from sklearn.metrics import classification_report , accuracy_score , confusion_matrix\n",
    "train_pred3 = clf3.predict(x_train)\n",
    "\n",
    "print(f\"Classification Repport\\n  {classification_report(y_train , train_pred3)}\")\n",
    "\n",
    "print(\"\\n\\n\")\n",
    "print(f\"Confudion Matrix  \\n {confusion_matrix(y_train ,train_pred3)}\")\n",
    "\n",
    "print(\"\\n\\n\")\n",
    "print(f\"Accuracy score   {accuracy_score(y_train ,train_pred3)}\")"
   ]
  },
  {
   "cell_type": "code",
   "execution_count": 46,
   "metadata": {},
   "outputs": [
    {
     "name": "stdout",
     "output_type": "stream",
     "text": [
      "Classification Repport\n",
      "                precision    recall  f1-score   support\n",
      "\n",
      "           0       0.98      0.99      0.99       870\n",
      "           1       0.97      0.94      0.95       269\n",
      "\n",
      "    accuracy                           0.98      1139\n",
      "   macro avg       0.98      0.96      0.97      1139\n",
      "weighted avg       0.98      0.98      0.98      1139\n",
      "\n",
      "\n",
      "\n",
      "\n",
      "Confudion Matrix  \n",
      " [[863   7]\n",
      " [ 17 252]]\n",
      "\n",
      "\n",
      "\n",
      "Accuracy score   0.9789288849868305\n"
     ]
    }
   ],
   "source": [
    "#checking score based on set test\n",
    "pred3 = clf3.predict(x_test)\n",
    "\n",
    "print(f\"Classification Repport\\n  {classification_report(y_test , pred3)}\")\n",
    "\n",
    "print(\"\\n\\n\")\n",
    "print(f\"Confudion Matrix  \\n {confusion_matrix(y_test , pred3)}\")\n",
    "\n",
    "print(\"\\n\\n\")\n",
    "print(f\"Accuracy score   {accuracy_score(y_test , pred3)}\")"
   ]
  },
  {
   "cell_type": "code",
   "execution_count": null,
   "metadata": {},
   "outputs": [],
   "source": []
  },
  {
   "cell_type": "code",
   "execution_count": null,
   "metadata": {},
   "outputs": [],
   "source": []
  },
  {
   "cell_type": "code",
   "execution_count": null,
   "metadata": {},
   "outputs": [],
   "source": []
  },
  {
   "cell_type": "code",
   "execution_count": null,
   "metadata": {},
   "outputs": [],
   "source": []
  }
 ],
 "metadata": {
  "kernelspec": {
   "display_name": "Python 3",
   "language": "python",
   "name": "python3"
  },
  "language_info": {
   "codemirror_mode": {
    "name": "ipython",
    "version": 3
   },
   "file_extension": ".py",
   "mimetype": "text/x-python",
   "name": "python",
   "nbconvert_exporter": "python",
   "pygments_lexer": "ipython3",
   "version": "3.7.4"
  }
 },
 "nbformat": 4,
 "nbformat_minor": 2
}
